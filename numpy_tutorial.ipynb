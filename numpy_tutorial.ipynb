{
 "cells": [
  {
   "cell_type": "markdown",
   "id": "4af96739-6501-45e8-ab3c-3fb6b19a3ec7",
   "metadata": {},
   "source": [
    "#Numpay Tutorial"
   ]
  },
  {
   "cell_type": "code",
   "execution_count": 1,
   "id": "83f7ca06-76ed-439d-8218-f9dd8df6c26a",
   "metadata": {},
   "outputs": [],
   "source": [
    "import numpy as np\n"
   ]
  },
  {
   "cell_type": "markdown",
   "id": "16109d41-b055-43dc-9310-322bd6419f0b",
   "metadata": {},
   "source": [
    "**np.int8 expalins that it is 8 bits you can change it to 32 or 64 for large number**"
   ]
  },
  {
   "cell_type": "code",
   "execution_count": 2,
   "id": "53a700ab-efb8-4af1-828a-0ea796491fbb",
   "metadata": {},
   "outputs": [],
   "source": [
    "myarr = np.array([[1,3,5,7]],np.int8)"
   ]
  },
  {
   "cell_type": "code",
   "execution_count": 3,
   "id": "72642470-f912-44ae-8275-5229ec53fb9a",
   "metadata": {},
   "outputs": [
    {
     "data": {
      "text/plain": [
       "array([[1, 3, 5, 7]], dtype=int8)"
      ]
     },
     "execution_count": 3,
     "metadata": {},
     "output_type": "execute_result"
    }
   ],
   "source": [
    "myarr"
   ]
  },
  {
   "cell_type": "markdown",
   "id": "77c72b68-c6ce-4b14-9451-f9924198a4ae",
   "metadata": {},
   "source": [
    "**to access any element of array**"
   ]
  },
  {
   "cell_type": "code",
   "execution_count": 4,
   "id": "4d3c12c4-caf2-49f3-8862-34595f0c7970",
   "metadata": {},
   "outputs": [
    {
     "data": {
      "text/plain": [
       "np.int8(3)"
      ]
     },
     "execution_count": 4,
     "metadata": {},
     "output_type": "execute_result"
    }
   ],
   "source": [
    "myarr[0,1]"
   ]
  },
  {
   "cell_type": "markdown",
   "id": "51db36f8-50fe-4b17-96ab-cc1700952c15",
   "metadata": {},
   "source": [
    "**to get the info of the array which tells this array has 1 row and 4 columns**"
   ]
  },
  {
   "cell_type": "code",
   "execution_count": 5,
   "id": "fa99302a-f564-4632-8cef-405a38d18fb3",
   "metadata": {},
   "outputs": [
    {
     "data": {
      "text/plain": [
       "(1, 4)"
      ]
     },
     "execution_count": 5,
     "metadata": {},
     "output_type": "execute_result"
    }
   ],
   "source": [
    "myarr.shape"
   ]
  },
  {
   "cell_type": "code",
   "execution_count": 6,
   "id": "9e081547-a1b4-46b0-a219-166434994ae2",
   "metadata": {},
   "outputs": [
    {
     "data": {
      "text/plain": [
       "dtype('int8')"
      ]
     },
     "execution_count": 6,
     "metadata": {},
     "output_type": "execute_result"
    }
   ],
   "source": [
    "myarr.dtype"
   ]
  },
  {
   "cell_type": "markdown",
   "id": "1c0fc73b-49fa-4163-968a-4635d47f1138",
   "metadata": {},
   "source": [
    "**can change the array**"
   ]
  },
  {
   "cell_type": "code",
   "execution_count": 7,
   "id": "af1d9aa3-efa7-4a0d-8df0-f3199abcf197",
   "metadata": {},
   "outputs": [],
   "source": [
    "myarr[0,1]=9"
   ]
  },
  {
   "cell_type": "code",
   "execution_count": 8,
   "id": "183f8d79-024c-49bc-82da-eda41ee08041",
   "metadata": {},
   "outputs": [
    {
     "data": {
      "text/plain": [
       "array([[1, 9, 5, 7]], dtype=int8)"
      ]
     },
     "execution_count": 8,
     "metadata": {},
     "output_type": "execute_result"
    }
   ],
   "source": [
    "myarr"
   ]
  },
  {
   "cell_type": "code",
   "execution_count": null,
   "id": "2a1495e1-886e-40d7-92d8-b4f87299794b",
   "metadata": {},
   "outputs": [],
   "source": []
  }
 ],
 "metadata": {
  "kernelspec": {
   "display_name": "Python 3 (ipykernel)",
   "language": "python",
   "name": "python3"
  },
  "language_info": {
   "codemirror_mode": {
    "name": "ipython",
    "version": 3
   },
   "file_extension": ".py",
   "mimetype": "text/x-python",
   "name": "python",
   "nbconvert_exporter": "python",
   "pygments_lexer": "ipython3",
   "version": "3.12.8"
  }
 },
 "nbformat": 4,
 "nbformat_minor": 5
}
