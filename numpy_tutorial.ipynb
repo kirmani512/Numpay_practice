{
 "cells": [
  {
   "cell_type": "markdown",
   "id": "4af96739-6501-45e8-ab3c-3fb6b19a3ec7",
   "metadata": {},
   "source": [
    "#Numpay Tutorial"
   ]
  },
  {
   "cell_type": "code",
   "execution_count": 1,
   "id": "83f7ca06-76ed-439d-8218-f9dd8df6c26a",
   "metadata": {},
   "outputs": [],
   "source": [
    "import numpy as np\n"
   ]
  },
  {
   "cell_type": "markdown",
   "id": "16109d41-b055-43dc-9310-322bd6419f0b",
   "metadata": {},
   "source": [
    "**np.int8 expalins that it is 8 bits you can change it to 32 or 64 for large number**"
   ]
  },
  {
   "cell_type": "code",
   "execution_count": 2,
   "id": "53a700ab-efb8-4af1-828a-0ea796491fbb",
   "metadata": {},
   "outputs": [],
   "source": [
    "myarr = np.array([[1,3,5,7]],np.int8)"
   ]
  },
  {
   "cell_type": "code",
   "execution_count": 3,
   "id": "72642470-f912-44ae-8275-5229ec53fb9a",
   "metadata": {},
   "outputs": [
    {
     "data": {
      "text/plain": [
       "array([[1, 3, 5, 7]], dtype=int8)"
      ]
     },
     "execution_count": 3,
     "metadata": {},
     "output_type": "execute_result"
    }
   ],
   "source": [
    "myarr"
   ]
  },
  {
   "cell_type": "markdown",
   "id": "77c72b68-c6ce-4b14-9451-f9924198a4ae",
   "metadata": {},
   "source": [
    "**to access any element of array**"
   ]
  },
  {
   "cell_type": "code",
   "execution_count": 4,
   "id": "4d3c12c4-caf2-49f3-8862-34595f0c7970",
   "metadata": {},
   "outputs": [
    {
     "data": {
      "text/plain": [
       "np.int8(3)"
      ]
     },
     "execution_count": 4,
     "metadata": {},
     "output_type": "execute_result"
    }
   ],
   "source": [
    "myarr[0,1]"
   ]
  },
  {
   "cell_type": "markdown",
   "id": "51db36f8-50fe-4b17-96ab-cc1700952c15",
   "metadata": {},
   "source": [
    "**to get the info of the array which tells this array has 1 row and 4 columns**"
   ]
  },
  {
   "cell_type": "code",
   "execution_count": 5,
   "id": "fa99302a-f564-4632-8cef-405a38d18fb3",
   "metadata": {},
   "outputs": [
    {
     "data": {
      "text/plain": [
       "(1, 4)"
      ]
     },
     "execution_count": 5,
     "metadata": {},
     "output_type": "execute_result"
    }
   ],
   "source": [
    "myarr.shape"
   ]
  },
  {
   "cell_type": "code",
   "execution_count": 6,
   "id": "9e081547-a1b4-46b0-a219-166434994ae2",
   "metadata": {},
   "outputs": [
    {
     "data": {
      "text/plain": [
       "dtype('int8')"
      ]
     },
     "execution_count": 6,
     "metadata": {},
     "output_type": "execute_result"
    }
   ],
   "source": [
    "myarr.dtype"
   ]
  },
  {
   "cell_type": "markdown",
   "id": "1c0fc73b-49fa-4163-968a-4635d47f1138",
   "metadata": {},
   "source": [
    "**can change the array**"
   ]
  },
  {
   "cell_type": "code",
   "execution_count": 7,
   "id": "af1d9aa3-efa7-4a0d-8df0-f3199abcf197",
   "metadata": {},
   "outputs": [],
   "source": [
    "myarr[0,1]=9"
   ]
  },
  {
   "cell_type": "code",
   "execution_count": 8,
   "id": "183f8d79-024c-49bc-82da-eda41ee08041",
   "metadata": {},
   "outputs": [
    {
     "data": {
      "text/plain": [
       "array([[1, 9, 5, 7]], dtype=int8)"
      ]
     },
     "execution_count": 8,
     "metadata": {},
     "output_type": "execute_result"
    }
   ],
   "source": [
    "myarr"
   ]
  },
  {
   "cell_type": "markdown",
   "id": "0aa06c88-192f-4adc-b8fa-cc217d33226b",
   "metadata": {},
   "source": [
    "**Array Creation method: Conversion from other Python structures (i.e. lists and tuples)**"
   ]
  },
  {
   "cell_type": "code",
   "execution_count": 9,
   "id": "cb5ef453-1446-454e-8993-645976cd4237",
   "metadata": {},
   "outputs": [],
   "source": [
    "listarray= np.array([[1,2,3],[3,5,7],[9,2,11]])"
   ]
  },
  {
   "cell_type": "code",
   "execution_count": 10,
   "id": "0c832eea-94f8-4900-848e-be3989b260cd",
   "metadata": {},
   "outputs": [
    {
     "data": {
      "text/plain": [
       "array([[ 1,  2,  3],\n",
       "       [ 3,  5,  7],\n",
       "       [ 9,  2, 11]])"
      ]
     },
     "execution_count": 10,
     "metadata": {},
     "output_type": "execute_result"
    }
   ],
   "source": [
    "listarray"
   ]
  },
  {
   "cell_type": "code",
   "execution_count": 11,
   "id": "4a087a73-7ac2-452d-af7a-4f2b7dd7f120",
   "metadata": {},
   "outputs": [
    {
     "data": {
      "text/plain": [
       "dtype('int64')"
      ]
     },
     "execution_count": 11,
     "metadata": {},
     "output_type": "execute_result"
    }
   ],
   "source": [
    "listarray.dtype"
   ]
  },
  {
   "cell_type": "code",
   "execution_count": 12,
   "id": "a0d5670f-7dbd-4018-9a8b-607db349c23e",
   "metadata": {},
   "outputs": [
    {
     "data": {
      "text/plain": [
       "(3, 3)"
      ]
     },
     "execution_count": 12,
     "metadata": {},
     "output_type": "execute_result"
    }
   ],
   "source": [
    "listarray.shape"
   ]
  },
  {
   "cell_type": "code",
   "execution_count": 13,
   "id": "4bc904cb-90f2-412f-830a-1ed38a10fe68",
   "metadata": {},
   "outputs": [
    {
     "data": {
      "text/plain": [
       "9"
      ]
     },
     "execution_count": 13,
     "metadata": {},
     "output_type": "execute_result"
    }
   ],
   "source": [
    "listarray.size"
   ]
  },
  {
   "cell_type": "markdown",
   "id": "134d3021-b8d4-474b-98c9-9f63587274a3",
   "metadata": {},
   "source": [
    "**by adding dectionary**"
   ]
  },
  {
   "cell_type": "code",
   "execution_count": 14,
   "id": "ec5b03a3-7ad2-495e-a035-957a524da358",
   "metadata": {},
   "outputs": [
    {
     "data": {
      "text/plain": [
       "array({56, 34, 76}, dtype=object)"
      ]
     },
     "execution_count": 14,
     "metadata": {},
     "output_type": "execute_result"
    }
   ],
   "source": [
    "np.array({34,56,76})"
   ]
  },
  {
   "cell_type": "markdown",
   "id": "253513c4-0d91-44aa-8cb1-6be1c54814bf",
   "metadata": {},
   "source": [
    "**Intrinsic NumPy array creation functions (e.g. arange, ones, zeros, etc.)**"
   ]
  },
  {
   "cell_type": "code",
   "execution_count": 15,
   "id": "0687f901-00f4-43fe-bdef-7141a012902a",
   "metadata": {},
   "outputs": [],
   "source": [
    "zeros= np.zeros((2,5))"
   ]
  },
  {
   "cell_type": "code",
   "execution_count": 16,
   "id": "68374a91-8020-4ef8-b73a-32d95ab35dc8",
   "metadata": {},
   "outputs": [
    {
     "data": {
      "text/plain": [
       "array([[0., 0., 0., 0., 0.],\n",
       "       [0., 0., 0., 0., 0.]])"
      ]
     },
     "execution_count": 16,
     "metadata": {},
     "output_type": "execute_result"
    }
   ],
   "source": [
    "zeros"
   ]
  },
  {
   "cell_type": "code",
   "execution_count": 17,
   "id": "62b0c638-3551-4b8e-bc8e-fd3eb9153958",
   "metadata": {},
   "outputs": [
    {
     "data": {
      "text/plain": [
       "dtype('float64')"
      ]
     },
     "execution_count": 17,
     "metadata": {},
     "output_type": "execute_result"
    }
   ],
   "source": [
    "zeros.dtype"
   ]
  },
  {
   "cell_type": "code",
   "execution_count": 18,
   "id": "4d987813-fcba-4ae0-8417-7b22c3a56a4c",
   "metadata": {},
   "outputs": [
    {
     "data": {
      "text/plain": [
       "(2, 5)"
      ]
     },
     "execution_count": 18,
     "metadata": {},
     "output_type": "execute_result"
    }
   ],
   "source": [
    "zeros.shape"
   ]
  },
  {
   "cell_type": "code",
   "execution_count": 19,
   "id": "18f02a5f-a7c5-4363-b0b0-0e9cbbaf41ff",
   "metadata": {},
   "outputs": [
    {
     "data": {
      "text/plain": [
       "10"
      ]
     },
     "execution_count": 19,
     "metadata": {},
     "output_type": "execute_result"
    }
   ],
   "source": [
    "zeros.size"
   ]
  },
  {
   "cell_type": "code",
   "execution_count": 20,
   "id": "c55820ec-acca-4fbe-b946-80bd10935fbd",
   "metadata": {},
   "outputs": [],
   "source": [
    "rng= np.arange(10)"
   ]
  },
  {
   "cell_type": "code",
   "execution_count": 21,
   "id": "2bc46b7c-9183-4c64-9503-be9bb75c0f34",
   "metadata": {},
   "outputs": [
    {
     "data": {
      "text/plain": [
       "array([0, 1, 2, 3, 4, 5, 6, 7, 8, 9])"
      ]
     },
     "execution_count": 21,
     "metadata": {},
     "output_type": "execute_result"
    }
   ],
   "source": [
    "rng"
   ]
  },
  {
   "cell_type": "markdown",
   "id": "8f3bf519-2252-412f-81fa-1c7704f04e23",
   "metadata": {},
   "source": [
    "**linspace gives the elemnets in given range like (1,50,10) here it gives 10 elements in the range of 1-50**"
   ]
  },
  {
   "cell_type": "code",
   "execution_count": 22,
   "id": "19a066fa-473c-4088-99b7-c111d7d64ed0",
   "metadata": {},
   "outputs": [],
   "source": [
    "lspace= np.linspace(1.50,10)"
   ]
  },
  {
   "cell_type": "code",
   "execution_count": 23,
   "id": "7aa3aa7e-dccf-423a-8202-1039713ece24",
   "metadata": {},
   "outputs": [
    {
     "data": {
      "text/plain": [
       "array([ 1.5       ,  1.67346939,  1.84693878,  2.02040816,  2.19387755,\n",
       "        2.36734694,  2.54081633,  2.71428571,  2.8877551 ,  3.06122449,\n",
       "        3.23469388,  3.40816327,  3.58163265,  3.75510204,  3.92857143,\n",
       "        4.10204082,  4.2755102 ,  4.44897959,  4.62244898,  4.79591837,\n",
       "        4.96938776,  5.14285714,  5.31632653,  5.48979592,  5.66326531,\n",
       "        5.83673469,  6.01020408,  6.18367347,  6.35714286,  6.53061224,\n",
       "        6.70408163,  6.87755102,  7.05102041,  7.2244898 ,  7.39795918,\n",
       "        7.57142857,  7.74489796,  7.91836735,  8.09183673,  8.26530612,\n",
       "        8.43877551,  8.6122449 ,  8.78571429,  8.95918367,  9.13265306,\n",
       "        9.30612245,  9.47959184,  9.65306122,  9.82653061, 10.        ])"
      ]
     },
     "execution_count": 23,
     "metadata": {},
     "output_type": "execute_result"
    }
   ],
   "source": [
    "lspace"
   ]
  },
  {
   "cell_type": "code",
   "execution_count": 24,
   "id": "d2e61629-354a-42ca-b4a9-a889db6416f7",
   "metadata": {},
   "outputs": [],
   "source": [
    "lspace= np.linspace(1,4,4)"
   ]
  },
  {
   "cell_type": "code",
   "execution_count": 25,
   "id": "d00cbae0-7a85-4a9f-94d9-6da15df1b12e",
   "metadata": {},
   "outputs": [
    {
     "data": {
      "text/plain": [
       "array([1., 2., 3., 4.])"
      ]
     },
     "execution_count": 25,
     "metadata": {},
     "output_type": "execute_result"
    }
   ],
   "source": [
    "lspace"
   ]
  },
  {
   "cell_type": "code",
   "execution_count": 26,
   "id": "4adf7af2-9e74-4f8d-ad73-5cde7c6d6659",
   "metadata": {},
   "outputs": [],
   "source": [
    "emp= np.empty((2,4))"
   ]
  },
  {
   "cell_type": "code",
   "execution_count": 27,
   "id": "d48e0e90-6c36-4127-8879-f934a9fefb0c",
   "metadata": {},
   "outputs": [
    {
     "data": {
      "text/plain": [
       "array([[0.000e+000, 0.000e+000, 0.000e+000, 0.000e+000],\n",
       "       [0.000e+000, 8.103e-321, 0.000e+000, 0.000e+000]])"
      ]
     },
     "execution_count": 27,
     "metadata": {},
     "output_type": "execute_result"
    }
   ],
   "source": [
    "emp"
   ]
  },
  {
   "cell_type": "code",
   "execution_count": 28,
   "id": "6602d1a5-1638-4c0c-88d3-b4f7209852c2",
   "metadata": {},
   "outputs": [],
   "source": [
    "emp_like= np.empty_like(lspace)"
   ]
  },
  {
   "cell_type": "code",
   "execution_count": 29,
   "id": "fc3f5884-f8aa-4a05-9d7b-e6243dc04242",
   "metadata": {},
   "outputs": [
    {
     "data": {
      "text/plain": [
       "array([1., 2., 3., 4.])"
      ]
     },
     "execution_count": 29,
     "metadata": {},
     "output_type": "execute_result"
    }
   ],
   "source": [
    "emp_like"
   ]
  },
  {
   "cell_type": "code",
   "execution_count": 30,
   "id": "2702e97a-ec80-41c3-8ce9-0257aff4a483",
   "metadata": {},
   "outputs": [],
   "source": [
    "arr= np.arange(99)"
   ]
  },
  {
   "cell_type": "code",
   "execution_count": 31,
   "id": "c6fde48f-6fde-4693-b01f-e9c8dc16794b",
   "metadata": {},
   "outputs": [
    {
     "data": {
      "text/plain": [
       "array([ 0,  1,  2,  3,  4,  5,  6,  7,  8,  9, 10, 11, 12, 13, 14, 15, 16,\n",
       "       17, 18, 19, 20, 21, 22, 23, 24, 25, 26, 27, 28, 29, 30, 31, 32, 33,\n",
       "       34, 35, 36, 37, 38, 39, 40, 41, 42, 43, 44, 45, 46, 47, 48, 49, 50,\n",
       "       51, 52, 53, 54, 55, 56, 57, 58, 59, 60, 61, 62, 63, 64, 65, 66, 67,\n",
       "       68, 69, 70, 71, 72, 73, 74, 75, 76, 77, 78, 79, 80, 81, 82, 83, 84,\n",
       "       85, 86, 87, 88, 89, 90, 91, 92, 93, 94, 95, 96, 97, 98])"
      ]
     },
     "execution_count": 31,
     "metadata": {},
     "output_type": "execute_result"
    }
   ],
   "source": [
    "arr"
   ]
  },
  {
   "cell_type": "code",
   "execution_count": 32,
   "id": "019f08c8-710b-48a5-a767-8180ac873621",
   "metadata": {},
   "outputs": [
    {
     "data": {
      "text/plain": [
       "array([[ 0,  1,  2,  3,  4,  5,  6,  7,  8,  9, 10, 11, 12, 13, 14, 15,\n",
       "        16, 17, 18, 19, 20, 21, 22, 23, 24, 25, 26, 27, 28, 29, 30, 31,\n",
       "        32],\n",
       "       [33, 34, 35, 36, 37, 38, 39, 40, 41, 42, 43, 44, 45, 46, 47, 48,\n",
       "        49, 50, 51, 52, 53, 54, 55, 56, 57, 58, 59, 60, 61, 62, 63, 64,\n",
       "        65],\n",
       "       [66, 67, 68, 69, 70, 71, 72, 73, 74, 75, 76, 77, 78, 79, 80, 81,\n",
       "        82, 83, 84, 85, 86, 87, 88, 89, 90, 91, 92, 93, 94, 95, 96, 97,\n",
       "        98]])"
      ]
     },
     "execution_count": 32,
     "metadata": {},
     "output_type": "execute_result"
    }
   ],
   "source": [
    "arr.reshape(3,33)"
   ]
  },
  {
   "cell_type": "code",
   "execution_count": 33,
   "id": "a16028c3-5de8-4cc2-b6df-2d6635fcb75b",
   "metadata": {},
   "outputs": [],
   "source": [
    "arr= arr.ravel()"
   ]
  },
  {
   "cell_type": "code",
   "execution_count": 34,
   "id": "52ada928-7399-427f-9035-ebdcf90a5f63",
   "metadata": {},
   "outputs": [
    {
     "data": {
      "text/plain": [
       "(99,)"
      ]
     },
     "execution_count": 34,
     "metadata": {},
     "output_type": "execute_result"
    }
   ],
   "source": [
    "arr.shape"
   ]
  },
  {
   "cell_type": "code",
   "execution_count": 35,
   "id": "d282e095-a344-4efc-a906-33340c3b4e35",
   "metadata": {},
   "outputs": [],
   "source": [
    "x=[[1,2,3],[4,5,6],[7,1,0]]"
   ]
  },
  {
   "cell_type": "code",
   "execution_count": 36,
   "id": "3acf45bf-45f5-4f67-b54d-efc620b7da9f",
   "metadata": {},
   "outputs": [],
   "source": [
    "ar = np.array(x)"
   ]
  },
  {
   "cell_type": "code",
   "execution_count": 37,
   "id": "8a3216a2-8994-4d37-9fa2-a11adb4164b4",
   "metadata": {},
   "outputs": [
    {
     "data": {
      "text/plain": [
       "array([[1, 2, 3],\n",
       "       [4, 5, 6],\n",
       "       [7, 1, 0]])"
      ]
     },
     "execution_count": 37,
     "metadata": {},
     "output_type": "execute_result"
    }
   ],
   "source": [
    "ar"
   ]
  },
  {
   "cell_type": "code",
   "execution_count": 38,
   "id": "c0abff75-68d6-4e14-861d-fcf223c30112",
   "metadata": {},
   "outputs": [
    {
     "data": {
      "text/plain": [
       "array([12,  8,  9])"
      ]
     },
     "execution_count": 38,
     "metadata": {},
     "output_type": "execute_result"
    }
   ],
   "source": [
    "ar.sum(axis=0)"
   ]
  },
  {
   "cell_type": "markdown",
   "id": "b794203c-18b1-4637-a431-1c460fb1ba7b",
   "metadata": {},
   "source": [
    "**axis0 means column and axis 1 means rows**"
   ]
  },
  {
   "cell_type": "code",
   "execution_count": 39,
   "id": "ec0a6665-811c-479a-9bb9-a7e62c0bd4bc",
   "metadata": {},
   "outputs": [
    {
     "data": {
      "text/plain": [
       "array([ 6, 15,  8])"
      ]
     },
     "execution_count": 39,
     "metadata": {},
     "output_type": "execute_result"
    }
   ],
   "source": [
    "ar.sum(axis=1)"
   ]
  },
  {
   "cell_type": "markdown",
   "id": "40b4b349-7c21-46b3-8051-ad96c92fcd71",
   "metadata": {},
   "source": [
    "**to transpose an array i.e convert columns into rows**"
   ]
  },
  {
   "cell_type": "code",
   "execution_count": 40,
   "id": "957c6118-883e-468b-a5ab-871fc4ff024f",
   "metadata": {},
   "outputs": [
    {
     "data": {
      "text/plain": [
       "array([[1, 4, 7],\n",
       "       [2, 5, 1],\n",
       "       [3, 6, 0]])"
      ]
     },
     "execution_count": 40,
     "metadata": {},
     "output_type": "execute_result"
    }
   ],
   "source": [
    "ar.T"
   ]
  },
  {
   "cell_type": "markdown",
   "id": "ad7959e1-4180-4392-a9bc-3178c5768a65",
   "metadata": {},
   "source": [
    "**flat gives an iterator**"
   ]
  },
  {
   "cell_type": "code",
   "execution_count": 41,
   "id": "95cd64c1-89b1-4633-aff2-506cff0dae76",
   "metadata": {},
   "outputs": [
    {
     "data": {
      "text/plain": [
       "<numpy.flatiter at 0x2326be0bd50>"
      ]
     },
     "execution_count": 41,
     "metadata": {},
     "output_type": "execute_result"
    }
   ],
   "source": [
    "ar.flat"
   ]
  },
  {
   "cell_type": "code",
   "execution_count": 42,
   "id": "39e5fec2-eb28-4747-bc3d-1ee5fed2e38f",
   "metadata": {},
   "outputs": [
    {
     "name": "stdout",
     "output_type": "stream",
     "text": [
      "1\n",
      "2\n",
      "3\n",
      "4\n",
      "5\n",
      "6\n",
      "7\n",
      "1\n",
      "0\n"
     ]
    }
   ],
   "source": [
    "for item in ar.flat:\n",
    "    print(item)"
   ]
  },
  {
   "cell_type": "markdown",
   "id": "8f719617-558e-46f8-892a-8637999e392b",
   "metadata": {},
   "source": [
    "**.ndim gives  number of dimensions of in array**"
   ]
  },
  {
   "cell_type": "code",
   "execution_count": 43,
   "id": "747fd697-ed85-4904-8157-86a9e0281cea",
   "metadata": {},
   "outputs": [
    {
     "data": {
      "text/plain": [
       "2"
      ]
     },
     "execution_count": 43,
     "metadata": {},
     "output_type": "execute_result"
    }
   ],
   "source": [
    "ar.ndim"
   ]
  },
  {
   "cell_type": "code",
   "execution_count": 44,
   "id": "5d8ae1e6-7d1a-46d6-b63f-7e93986c6600",
   "metadata": {},
   "outputs": [
    {
     "data": {
      "text/plain": [
       "9"
      ]
     },
     "execution_count": 44,
     "metadata": {},
     "output_type": "execute_result"
    }
   ],
   "source": [
    "ar.size"
   ]
  },
  {
   "cell_type": "code",
   "execution_count": 45,
   "id": "b825f862-4e95-45e6-90d0-1877bc0b4322",
   "metadata": {},
   "outputs": [
    {
     "data": {
      "text/plain": [
       "72"
      ]
     },
     "execution_count": 45,
     "metadata": {},
     "output_type": "execute_result"
    }
   ],
   "source": [
    "ar.nbytes"
   ]
  },
  {
   "cell_type": "markdown",
   "id": "1bf8c270-2455-4229-9149-fe3ca8419cad",
   "metadata": {},
   "source": [
    "**nbytes shows the number of bytes consumed**"
   ]
  },
  {
   "cell_type": "markdown",
   "id": "4d839e9e-14b3-452a-9f77-d837ca08a1fa",
   "metadata": {},
   "source": [
    "**use parenthesis() while using the methods and skip them while using attributes**"
   ]
  },
  {
   "cell_type": "code",
   "execution_count": 46,
   "id": "20f618a6-38fd-45b4-9ac6-a3cabe4a1f33",
   "metadata": {},
   "outputs": [],
   "source": [
    "one = np.array([1,2,0,456,789])"
   ]
  },
  {
   "cell_type": "code",
   "execution_count": 47,
   "id": "d715d75c-af09-4c8e-8588-a5ddac276e5b",
   "metadata": {},
   "outputs": [
    {
     "data": {
      "text/plain": [
       "np.int64(4)"
      ]
     },
     "execution_count": 47,
     "metadata": {},
     "output_type": "execute_result"
    }
   ],
   "source": [
    "one.argmax()"
   ]
  },
  {
   "cell_type": "markdown",
   "id": "cba51734-5797-4eef-9908-d7100d996377",
   "metadata": {},
   "source": [
    "**argmax gives the index of the array which  has maximum value**"
   ]
  },
  {
   "cell_type": "code",
   "execution_count": 48,
   "id": "7284d336-f7d4-446a-875b-c92e156e0155",
   "metadata": {},
   "outputs": [
    {
     "data": {
      "text/plain": [
       "np.int64(2)"
      ]
     },
     "execution_count": 48,
     "metadata": {},
     "output_type": "execute_result"
    }
   ],
   "source": [
    "one.argmin()"
   ]
  },
  {
   "cell_type": "code",
   "execution_count": 49,
   "id": "4f5a18fa-675c-4514-9372-ba286a062db9",
   "metadata": {},
   "outputs": [
    {
     "data": {
      "text/plain": [
       "array([2, 0, 1, 3, 4])"
      ]
     },
     "execution_count": 49,
     "metadata": {},
     "output_type": "execute_result"
    }
   ],
   "source": [
    "one.argsort()"
   ]
  },
  {
   "cell_type": "markdown",
   "id": "5d765ee2-f7cd-4f51-a542-251ab66e9a71",
   "metadata": {},
   "source": [
    "**argsort tells the number of indexes that how it will be sorted**"
   ]
  },
  {
   "cell_type": "code",
   "execution_count": 50,
   "id": "02632a83-76a1-4cf7-b3a5-0e43c00aea47",
   "metadata": {},
   "outputs": [
    {
     "data": {
      "text/plain": [
       "array([[1, 2, 3],\n",
       "       [4, 5, 6],\n",
       "       [7, 1, 0]])"
      ]
     },
     "execution_count": 50,
     "metadata": {},
     "output_type": "execute_result"
    }
   ],
   "source": [
    "ar"
   ]
  },
  {
   "cell_type": "code",
   "execution_count": 51,
   "id": "b6d5bde3-7475-4a6c-ad18-2d5fe1fa9ce7",
   "metadata": {},
   "outputs": [
    {
     "data": {
      "text/plain": [
       "np.int64(8)"
      ]
     },
     "execution_count": 51,
     "metadata": {},
     "output_type": "execute_result"
    }
   ],
   "source": [
    "ar.argmin()"
   ]
  },
  {
   "cell_type": "code",
   "execution_count": 52,
   "id": "9cbb765b-9643-4c4c-b64e-2b05ea4277b1",
   "metadata": {},
   "outputs": [
    {
     "data": {
      "text/plain": [
       "np.int64(6)"
      ]
     },
     "execution_count": 52,
     "metadata": {},
     "output_type": "execute_result"
    }
   ],
   "source": [
    "ar.argmax()"
   ]
  },
  {
   "cell_type": "code",
   "execution_count": 53,
   "id": "348bfd12-ac34-485a-8950-06dd3cd1928f",
   "metadata": {},
   "outputs": [
    {
     "data": {
      "text/plain": [
       "array([2, 1, 1])"
      ]
     },
     "execution_count": 53,
     "metadata": {},
     "output_type": "execute_result"
    }
   ],
   "source": [
    "ar.argmax(axis=0)"
   ]
  },
  {
   "cell_type": "code",
   "execution_count": 54,
   "id": "4ea3d8a4-2b31-42c3-9275-c01b73764b7e",
   "metadata": {},
   "outputs": [
    {
     "data": {
      "text/plain": [
       "array([2, 2, 0])"
      ]
     },
     "execution_count": 54,
     "metadata": {},
     "output_type": "execute_result"
    }
   ],
   "source": [
    "ar.argmax(axis=1)"
   ]
  },
  {
   "cell_type": "code",
   "execution_count": 55,
   "id": "1d97f126-0de9-49d9-a8f0-d302cebc3a60",
   "metadata": {},
   "outputs": [
    {
     "data": {
      "text/plain": [
       "array([[0, 2, 2],\n",
       "       [1, 0, 0],\n",
       "       [2, 1, 1]])"
      ]
     },
     "execution_count": 55,
     "metadata": {},
     "output_type": "execute_result"
    }
   ],
   "source": [
    "ar.argsort(axis=0)"
   ]
  },
  {
   "cell_type": "code",
   "execution_count": 56,
   "id": "c39223ed-7c2f-4f9f-a55c-ef862d33a905",
   "metadata": {},
   "outputs": [
    {
     "data": {
      "text/plain": [
       "array([[0, 1, 2],\n",
       "       [0, 1, 2],\n",
       "       [2, 1, 0]])"
      ]
     },
     "execution_count": 56,
     "metadata": {},
     "output_type": "execute_result"
    }
   ],
   "source": [
    "ar.argsort(axis=1)"
   ]
  },
  {
   "cell_type": "code",
   "execution_count": 57,
   "id": "9225a82d-5547-462b-ab82-8c27fa49315e",
   "metadata": {},
   "outputs": [
    {
     "data": {
      "text/plain": [
       "array([[1, 2, 3],\n",
       "       [4, 5, 6],\n",
       "       [7, 1, 0]])"
      ]
     },
     "execution_count": 57,
     "metadata": {},
     "output_type": "execute_result"
    }
   ],
   "source": [
    "ar\n"
   ]
  },
  {
   "cell_type": "code",
   "execution_count": 58,
   "id": "cc86c0c5-d09a-492f-9558-05e9519fe661",
   "metadata": {},
   "outputs": [
    {
     "data": {
      "text/plain": [
       "array([1, 2, 3, 4, 5, 6, 7, 1, 0])"
      ]
     },
     "execution_count": 58,
     "metadata": {},
     "output_type": "execute_result"
    }
   ],
   "source": [
    "ar.ravel()"
   ]
  },
  {
   "cell_type": "code",
   "execution_count": 59,
   "id": "f3563582-2d2c-4c79-a28a-ebd4fcfa0869",
   "metadata": {},
   "outputs": [
    {
     "data": {
      "text/plain": [
       "array([[1],\n",
       "       [2],\n",
       "       [3],\n",
       "       [4],\n",
       "       [5],\n",
       "       [6],\n",
       "       [7],\n",
       "       [1],\n",
       "       [0]])"
      ]
     },
     "execution_count": 59,
     "metadata": {},
     "output_type": "execute_result"
    }
   ],
   "source": [
    "ar.reshape((9,1))"
   ]
  },
  {
   "cell_type": "code",
   "execution_count": 60,
   "id": "3314ec74-21cd-4303-9509-3f51a8606ac3",
   "metadata": {},
   "outputs": [],
   "source": [
    "ar2=np.array([[1, 1, 2],\n",
    "       [4, 5, 6],\n",
    "       [1, 1, 0]])"
   ]
  },
  {
   "cell_type": "code",
   "execution_count": 61,
   "id": "e5484312-754f-44c9-b955-e09c1eb112ec",
   "metadata": {},
   "outputs": [
    {
     "data": {
      "text/plain": [
       "array([[ 2,  3,  5],\n",
       "       [ 8, 10, 12],\n",
       "       [ 8,  2,  0]])"
      ]
     },
     "execution_count": 61,
     "metadata": {},
     "output_type": "execute_result"
    }
   ],
   "source": [
    "ar+ar2"
   ]
  },
  {
   "cell_type": "code",
   "execution_count": 62,
   "id": "f023d10d-1f7d-44d9-b976-ace0f976cc06",
   "metadata": {},
   "outputs": [
    {
     "data": {
      "text/plain": [
       "array([[ 1,  2,  6],\n",
       "       [16, 25, 36],\n",
       "       [ 7,  1,  0]])"
      ]
     },
     "execution_count": 62,
     "metadata": {},
     "output_type": "execute_result"
    }
   ],
   "source": [
    "ar*ar2"
   ]
  },
  {
   "cell_type": "code",
   "execution_count": 63,
   "id": "1794f3e2-6621-4389-a194-16b413e2a2d5",
   "metadata": {},
   "outputs": [
    {
     "data": {
      "text/plain": [
       "array([[1.        , 1.41421356, 1.73205081],\n",
       "       [2.        , 2.23606798, 2.44948974],\n",
       "       [2.64575131, 1.        , 0.        ]])"
      ]
     },
     "execution_count": 63,
     "metadata": {},
     "output_type": "execute_result"
    }
   ],
   "source": [
    "np.sqrt(ar)"
   ]
  },
  {
   "cell_type": "code",
   "execution_count": 64,
   "id": "2062dcdd-6068-43a3-aa48-9ad65f5662ed",
   "metadata": {},
   "outputs": [
    {
     "data": {
      "text/plain": [
       "np.int64(29)"
      ]
     },
     "execution_count": 64,
     "metadata": {},
     "output_type": "execute_result"
    }
   ],
   "source": [
    "ar.sum()"
   ]
  },
  {
   "cell_type": "code",
   "execution_count": 67,
   "id": "6b323c3b-2186-4821-a0dd-07baef916627",
   "metadata": {},
   "outputs": [
    {
     "data": {
      "text/plain": [
       "np.int64(7)"
      ]
     },
     "execution_count": 67,
     "metadata": {},
     "output_type": "execute_result"
    }
   ],
   "source": [
    "ar.max()"
   ]
  },
  {
   "cell_type": "code",
   "execution_count": 68,
   "id": "2ee5e598-89ee-4013-abec-9f0157b94cf3",
   "metadata": {},
   "outputs": [
    {
     "data": {
      "text/plain": [
       "np.int64(0)"
      ]
     },
     "execution_count": 68,
     "metadata": {},
     "output_type": "execute_result"
    }
   ],
   "source": [
    "ar.min()"
   ]
  },
  {
   "cell_type": "code",
   "execution_count": 69,
   "id": "454d51b8-8ba4-47d6-ae19-2fb79f70604b",
   "metadata": {},
   "outputs": [
    {
     "data": {
      "text/plain": [
       "array([[1, 2, 3],\n",
       "       [4, 5, 6],\n",
       "       [7, 1, 0]])"
      ]
     },
     "execution_count": 69,
     "metadata": {},
     "output_type": "execute_result"
    }
   ],
   "source": [
    "ar"
   ]
  },
  {
   "cell_type": "code",
   "execution_count": 70,
   "id": "9fdef41e-acb4-4234-b815-6b71e1a2a3cd",
   "metadata": {},
   "outputs": [
    {
     "data": {
      "text/plain": [
       "(array([1, 2]), array([2, 0]))"
      ]
     },
     "execution_count": 70,
     "metadata": {},
     "output_type": "execute_result"
    }
   ],
   "source": [
    "np.where(ar>5)"
   ]
  },
  {
   "cell_type": "code",
   "execution_count": 72,
   "id": "a7eb0b2f-52a1-4b90-b04d-de836e62201d",
   "metadata": {},
   "outputs": [
    {
     "data": {
      "text/plain": [
       "8"
      ]
     },
     "execution_count": 72,
     "metadata": {},
     "output_type": "execute_result"
    }
   ],
   "source": [
    "np.count_nonzero(ar)"
   ]
  },
  {
   "cell_type": "code",
   "execution_count": null,
   "id": "57b535f4-9c3a-4811-8a6e-28a8f53f582e",
   "metadata": {},
   "outputs": [],
   "source": []
  }
 ],
 "metadata": {
  "kernelspec": {
   "display_name": "Python 3 (ipykernel)",
   "language": "python",
   "name": "python3"
  },
  "language_info": {
   "codemirror_mode": {
    "name": "ipython",
    "version": 3
   },
   "file_extension": ".py",
   "mimetype": "text/x-python",
   "name": "python",
   "nbconvert_exporter": "python",
   "pygments_lexer": "ipython3",
   "version": "3.12.8"
  }
 },
 "nbformat": 4,
 "nbformat_minor": 5
}
