{
 "cells": [
  {
   "cell_type": "markdown",
   "id": "4af96739-6501-45e8-ab3c-3fb6b19a3ec7",
   "metadata": {},
   "source": [
    "#Numpay Tutorial"
   ]
  },
  {
   "cell_type": "code",
   "execution_count": 1,
   "id": "83f7ca06-76ed-439d-8218-f9dd8df6c26a",
   "metadata": {},
   "outputs": [],
   "source": [
    "import numpy as np\n"
   ]
  },
  {
   "cell_type": "markdown",
   "id": "16109d41-b055-43dc-9310-322bd6419f0b",
   "metadata": {},
   "source": [
    "**np.int8 expalins that it is 8 bits you can change it to 32 or 64 for large number**"
   ]
  },
  {
   "cell_type": "code",
   "execution_count": 2,
   "id": "53a700ab-efb8-4af1-828a-0ea796491fbb",
   "metadata": {},
   "outputs": [],
   "source": [
    "myarr = np.array([[1,3,5,7]],np.int8)"
   ]
  },
  {
   "cell_type": "code",
   "execution_count": 3,
   "id": "72642470-f912-44ae-8275-5229ec53fb9a",
   "metadata": {},
   "outputs": [
    {
     "data": {
      "text/plain": [
       "array([[1, 3, 5, 7]], dtype=int8)"
      ]
     },
     "execution_count": 3,
     "metadata": {},
     "output_type": "execute_result"
    }
   ],
   "source": [
    "myarr"
   ]
  },
  {
   "cell_type": "markdown",
   "id": "77c72b68-c6ce-4b14-9451-f9924198a4ae",
   "metadata": {},
   "source": [
    "**to access any element of array**"
   ]
  },
  {
   "cell_type": "code",
   "execution_count": 4,
   "id": "4d3c12c4-caf2-49f3-8862-34595f0c7970",
   "metadata": {},
   "outputs": [
    {
     "data": {
      "text/plain": [
       "np.int8(3)"
      ]
     },
     "execution_count": 4,
     "metadata": {},
     "output_type": "execute_result"
    }
   ],
   "source": [
    "myarr[0,1]"
   ]
  },
  {
   "cell_type": "markdown",
   "id": "51db36f8-50fe-4b17-96ab-cc1700952c15",
   "metadata": {},
   "source": [
    "**to get the info of the array which tells this array has 1 row and 4 columns**"
   ]
  },
  {
   "cell_type": "code",
   "execution_count": 5,
   "id": "fa99302a-f564-4632-8cef-405a38d18fb3",
   "metadata": {},
   "outputs": [
    {
     "data": {
      "text/plain": [
       "(1, 4)"
      ]
     },
     "execution_count": 5,
     "metadata": {},
     "output_type": "execute_result"
    }
   ],
   "source": [
    "myarr.shape"
   ]
  },
  {
   "cell_type": "code",
   "execution_count": 6,
   "id": "9e081547-a1b4-46b0-a219-166434994ae2",
   "metadata": {},
   "outputs": [
    {
     "data": {
      "text/plain": [
       "dtype('int8')"
      ]
     },
     "execution_count": 6,
     "metadata": {},
     "output_type": "execute_result"
    }
   ],
   "source": [
    "myarr.dtype"
   ]
  },
  {
   "cell_type": "markdown",
   "id": "1c0fc73b-49fa-4163-968a-4635d47f1138",
   "metadata": {},
   "source": [
    "**can change the array**"
   ]
  },
  {
   "cell_type": "code",
   "execution_count": 7,
   "id": "af1d9aa3-efa7-4a0d-8df0-f3199abcf197",
   "metadata": {},
   "outputs": [],
   "source": [
    "myarr[0,1]=9"
   ]
  },
  {
   "cell_type": "code",
   "execution_count": 8,
   "id": "183f8d79-024c-49bc-82da-eda41ee08041",
   "metadata": {},
   "outputs": [
    {
     "data": {
      "text/plain": [
       "array([[1, 9, 5, 7]], dtype=int8)"
      ]
     },
     "execution_count": 8,
     "metadata": {},
     "output_type": "execute_result"
    }
   ],
   "source": [
    "myarr"
   ]
  },
  {
   "cell_type": "markdown",
   "id": "0aa06c88-192f-4adc-b8fa-cc217d33226b",
   "metadata": {},
   "source": [
    "**Array Creation method: Conversion from other Python structures (i.e. lists and tuples)**"
   ]
  },
  {
   "cell_type": "code",
   "execution_count": 9,
   "id": "cb5ef453-1446-454e-8993-645976cd4237",
   "metadata": {},
   "outputs": [],
   "source": [
    "listarray= np.array([[1,2,3],[3,5,7],[9,2,11]])"
   ]
  },
  {
   "cell_type": "code",
   "execution_count": 10,
   "id": "0c832eea-94f8-4900-848e-be3989b260cd",
   "metadata": {},
   "outputs": [
    {
     "data": {
      "text/plain": [
       "array([[ 1,  2,  3],\n",
       "       [ 3,  5,  7],\n",
       "       [ 9,  2, 11]])"
      ]
     },
     "execution_count": 10,
     "metadata": {},
     "output_type": "execute_result"
    }
   ],
   "source": [
    "listarray"
   ]
  },
  {
   "cell_type": "code",
   "execution_count": 11,
   "id": "4a087a73-7ac2-452d-af7a-4f2b7dd7f120",
   "metadata": {},
   "outputs": [
    {
     "data": {
      "text/plain": [
       "dtype('int64')"
      ]
     },
     "execution_count": 11,
     "metadata": {},
     "output_type": "execute_result"
    }
   ],
   "source": [
    "listarray.dtype"
   ]
  },
  {
   "cell_type": "code",
   "execution_count": 12,
   "id": "a0d5670f-7dbd-4018-9a8b-607db349c23e",
   "metadata": {},
   "outputs": [
    {
     "data": {
      "text/plain": [
       "(3, 3)"
      ]
     },
     "execution_count": 12,
     "metadata": {},
     "output_type": "execute_result"
    }
   ],
   "source": [
    "listarray.shape"
   ]
  },
  {
   "cell_type": "code",
   "execution_count": 13,
   "id": "4bc904cb-90f2-412f-830a-1ed38a10fe68",
   "metadata": {},
   "outputs": [
    {
     "data": {
      "text/plain": [
       "9"
      ]
     },
     "execution_count": 13,
     "metadata": {},
     "output_type": "execute_result"
    }
   ],
   "source": [
    "listarray.size"
   ]
  },
  {
   "cell_type": "markdown",
   "id": "134d3021-b8d4-474b-98c9-9f63587274a3",
   "metadata": {},
   "source": [
    "**by adding dectionary**"
   ]
  },
  {
   "cell_type": "code",
   "execution_count": 14,
   "id": "ec5b03a3-7ad2-495e-a035-957a524da358",
   "metadata": {},
   "outputs": [
    {
     "data": {
      "text/plain": [
       "array({56, 34, 76}, dtype=object)"
      ]
     },
     "execution_count": 14,
     "metadata": {},
     "output_type": "execute_result"
    }
   ],
   "source": [
    "np.array({34,56,76})"
   ]
  },
  {
   "cell_type": "markdown",
   "id": "253513c4-0d91-44aa-8cb1-6be1c54814bf",
   "metadata": {},
   "source": [
    "**Intrinsic NumPy array creation functions (e.g. arange, ones, zeros, etc.)**"
   ]
  },
  {
   "cell_type": "code",
   "execution_count": 15,
   "id": "0687f901-00f4-43fe-bdef-7141a012902a",
   "metadata": {},
   "outputs": [],
   "source": [
    "zeros= np.zeros((2,5))"
   ]
  },
  {
   "cell_type": "code",
   "execution_count": 16,
   "id": "68374a91-8020-4ef8-b73a-32d95ab35dc8",
   "metadata": {},
   "outputs": [
    {
     "data": {
      "text/plain": [
       "array([[0., 0., 0., 0., 0.],\n",
       "       [0., 0., 0., 0., 0.]])"
      ]
     },
     "execution_count": 16,
     "metadata": {},
     "output_type": "execute_result"
    }
   ],
   "source": [
    "zeros"
   ]
  },
  {
   "cell_type": "code",
   "execution_count": 17,
   "id": "62b0c638-3551-4b8e-bc8e-fd3eb9153958",
   "metadata": {},
   "outputs": [
    {
     "data": {
      "text/plain": [
       "dtype('float64')"
      ]
     },
     "execution_count": 17,
     "metadata": {},
     "output_type": "execute_result"
    }
   ],
   "source": [
    "zeros.dtype"
   ]
  },
  {
   "cell_type": "code",
   "execution_count": 18,
   "id": "4d987813-fcba-4ae0-8417-7b22c3a56a4c",
   "metadata": {},
   "outputs": [
    {
     "data": {
      "text/plain": [
       "(2, 5)"
      ]
     },
     "execution_count": 18,
     "metadata": {},
     "output_type": "execute_result"
    }
   ],
   "source": [
    "zeros.shape"
   ]
  },
  {
   "cell_type": "code",
   "execution_count": 19,
   "id": "18f02a5f-a7c5-4363-b0b0-0e9cbbaf41ff",
   "metadata": {},
   "outputs": [
    {
     "data": {
      "text/plain": [
       "10"
      ]
     },
     "execution_count": 19,
     "metadata": {},
     "output_type": "execute_result"
    }
   ],
   "source": [
    "zeros.size"
   ]
  },
  {
   "cell_type": "code",
   "execution_count": 20,
   "id": "c55820ec-acca-4fbe-b946-80bd10935fbd",
   "metadata": {},
   "outputs": [],
   "source": [
    "rng= np.arange(10)"
   ]
  },
  {
   "cell_type": "code",
   "execution_count": 21,
   "id": "2bc46b7c-9183-4c64-9503-be9bb75c0f34",
   "metadata": {},
   "outputs": [
    {
     "data": {
      "text/plain": [
       "array([0, 1, 2, 3, 4, 5, 6, 7, 8, 9])"
      ]
     },
     "execution_count": 21,
     "metadata": {},
     "output_type": "execute_result"
    }
   ],
   "source": [
    "rng"
   ]
  },
  {
   "cell_type": "markdown",
   "id": "8f3bf519-2252-412f-81fa-1c7704f04e23",
   "metadata": {},
   "source": [
    "**linspace gives the elemnets in given range like (1,50,10) here it gives 10 elements in the range of 1-50**"
   ]
  },
  {
   "cell_type": "code",
   "execution_count": 22,
   "id": "19a066fa-473c-4088-99b7-c111d7d64ed0",
   "metadata": {},
   "outputs": [],
   "source": [
    "lspace= np.linspace(1.50,10)"
   ]
  },
  {
   "cell_type": "code",
   "execution_count": 23,
   "id": "7aa3aa7e-dccf-423a-8202-1039713ece24",
   "metadata": {},
   "outputs": [
    {
     "data": {
      "text/plain": [
       "array([ 1.5       ,  1.67346939,  1.84693878,  2.02040816,  2.19387755,\n",
       "        2.36734694,  2.54081633,  2.71428571,  2.8877551 ,  3.06122449,\n",
       "        3.23469388,  3.40816327,  3.58163265,  3.75510204,  3.92857143,\n",
       "        4.10204082,  4.2755102 ,  4.44897959,  4.62244898,  4.79591837,\n",
       "        4.96938776,  5.14285714,  5.31632653,  5.48979592,  5.66326531,\n",
       "        5.83673469,  6.01020408,  6.18367347,  6.35714286,  6.53061224,\n",
       "        6.70408163,  6.87755102,  7.05102041,  7.2244898 ,  7.39795918,\n",
       "        7.57142857,  7.74489796,  7.91836735,  8.09183673,  8.26530612,\n",
       "        8.43877551,  8.6122449 ,  8.78571429,  8.95918367,  9.13265306,\n",
       "        9.30612245,  9.47959184,  9.65306122,  9.82653061, 10.        ])"
      ]
     },
     "execution_count": 23,
     "metadata": {},
     "output_type": "execute_result"
    }
   ],
   "source": [
    "lspace"
   ]
  },
  {
   "cell_type": "code",
   "execution_count": 24,
   "id": "d2e61629-354a-42ca-b4a9-a889db6416f7",
   "metadata": {},
   "outputs": [],
   "source": [
    "lspace= np.linspace(1,4,4)"
   ]
  },
  {
   "cell_type": "code",
   "execution_count": 25,
   "id": "d00cbae0-7a85-4a9f-94d9-6da15df1b12e",
   "metadata": {},
   "outputs": [
    {
     "data": {
      "text/plain": [
       "array([1., 2., 3., 4.])"
      ]
     },
     "execution_count": 25,
     "metadata": {},
     "output_type": "execute_result"
    }
   ],
   "source": [
    "lspace"
   ]
  },
  {
   "cell_type": "code",
   "execution_count": 26,
   "id": "4adf7af2-9e74-4f8d-ad73-5cde7c6d6659",
   "metadata": {},
   "outputs": [],
   "source": [
    "emp= np.empty((2,4))"
   ]
  },
  {
   "cell_type": "code",
   "execution_count": 27,
   "id": "d48e0e90-6c36-4127-8879-f934a9fefb0c",
   "metadata": {},
   "outputs": [
    {
     "data": {
      "text/plain": [
       "array([[0., 0., 0., 0.],\n",
       "       [0., 0., 0., 0.]])"
      ]
     },
     "execution_count": 27,
     "metadata": {},
     "output_type": "execute_result"
    }
   ],
   "source": [
    "emp"
   ]
  },
  {
   "cell_type": "code",
   "execution_count": 28,
   "id": "6602d1a5-1638-4c0c-88d3-b4f7209852c2",
   "metadata": {},
   "outputs": [],
   "source": [
    "emp_like= np.empty_like(lspace)"
   ]
  },
  {
   "cell_type": "code",
   "execution_count": 29,
   "id": "fc3f5884-f8aa-4a05-9d7b-e6243dc04242",
   "metadata": {},
   "outputs": [
    {
     "data": {
      "text/plain": [
       "array([1., 2., 3., 4.])"
      ]
     },
     "execution_count": 29,
     "metadata": {},
     "output_type": "execute_result"
    }
   ],
   "source": [
    "emp_like"
   ]
  },
  {
   "cell_type": "code",
   "execution_count": 30,
   "id": "2702e97a-ec80-41c3-8ce9-0257aff4a483",
   "metadata": {},
   "outputs": [],
   "source": [
    "arr= np.arange(99)"
   ]
  },
  {
   "cell_type": "code",
   "execution_count": 31,
   "id": "c6fde48f-6fde-4693-b01f-e9c8dc16794b",
   "metadata": {},
   "outputs": [
    {
     "data": {
      "text/plain": [
       "array([ 0,  1,  2,  3,  4,  5,  6,  7,  8,  9, 10, 11, 12, 13, 14, 15, 16,\n",
       "       17, 18, 19, 20, 21, 22, 23, 24, 25, 26, 27, 28, 29, 30, 31, 32, 33,\n",
       "       34, 35, 36, 37, 38, 39, 40, 41, 42, 43, 44, 45, 46, 47, 48, 49, 50,\n",
       "       51, 52, 53, 54, 55, 56, 57, 58, 59, 60, 61, 62, 63, 64, 65, 66, 67,\n",
       "       68, 69, 70, 71, 72, 73, 74, 75, 76, 77, 78, 79, 80, 81, 82, 83, 84,\n",
       "       85, 86, 87, 88, 89, 90, 91, 92, 93, 94, 95, 96, 97, 98])"
      ]
     },
     "execution_count": 31,
     "metadata": {},
     "output_type": "execute_result"
    }
   ],
   "source": [
    "arr"
   ]
  },
  {
   "cell_type": "code",
   "execution_count": 32,
   "id": "019f08c8-710b-48a5-a767-8180ac873621",
   "metadata": {},
   "outputs": [
    {
     "data": {
      "text/plain": [
       "array([[ 0,  1,  2,  3,  4,  5,  6,  7,  8,  9, 10, 11, 12, 13, 14, 15,\n",
       "        16, 17, 18, 19, 20, 21, 22, 23, 24, 25, 26, 27, 28, 29, 30, 31,\n",
       "        32],\n",
       "       [33, 34, 35, 36, 37, 38, 39, 40, 41, 42, 43, 44, 45, 46, 47, 48,\n",
       "        49, 50, 51, 52, 53, 54, 55, 56, 57, 58, 59, 60, 61, 62, 63, 64,\n",
       "        65],\n",
       "       [66, 67, 68, 69, 70, 71, 72, 73, 74, 75, 76, 77, 78, 79, 80, 81,\n",
       "        82, 83, 84, 85, 86, 87, 88, 89, 90, 91, 92, 93, 94, 95, 96, 97,\n",
       "        98]])"
      ]
     },
     "execution_count": 32,
     "metadata": {},
     "output_type": "execute_result"
    }
   ],
   "source": [
    "arr.reshape(3,33)"
   ]
  },
  {
   "cell_type": "code",
   "execution_count": 33,
   "id": "a16028c3-5de8-4cc2-b6df-2d6635fcb75b",
   "metadata": {},
   "outputs": [],
   "source": [
    "arr= arr.ravel()"
   ]
  },
  {
   "cell_type": "code",
   "execution_count": 34,
   "id": "52ada928-7399-427f-9035-ebdcf90a5f63",
   "metadata": {},
   "outputs": [
    {
     "data": {
      "text/plain": [
       "(99,)"
      ]
     },
     "execution_count": 34,
     "metadata": {},
     "output_type": "execute_result"
    }
   ],
   "source": [
    "arr.shape"
   ]
  },
  {
   "cell_type": "code",
   "execution_count": 35,
   "id": "d282e095-a344-4efc-a906-33340c3b4e35",
   "metadata": {},
   "outputs": [],
   "source": [
    "x=[[1,2,3],[4,5,6],[7,1,0]]"
   ]
  },
  {
   "cell_type": "code",
   "execution_count": 36,
   "id": "3acf45bf-45f5-4f67-b54d-efc620b7da9f",
   "metadata": {},
   "outputs": [],
   "source": [
    "ar = np.array(x)"
   ]
  },
  {
   "cell_type": "code",
   "execution_count": 38,
   "id": "8a3216a2-8994-4d37-9fa2-a11adb4164b4",
   "metadata": {},
   "outputs": [
    {
     "data": {
      "text/plain": [
       "array([[1, 2, 3],\n",
       "       [4, 5, 6],\n",
       "       [7, 1, 0]])"
      ]
     },
     "execution_count": 38,
     "metadata": {},
     "output_type": "execute_result"
    }
   ],
   "source": [
    "ar"
   ]
  },
  {
   "cell_type": "code",
   "execution_count": 39,
   "id": "c0abff75-68d6-4e14-861d-fcf223c30112",
   "metadata": {},
   "outputs": [
    {
     "data": {
      "text/plain": [
       "array([12,  8,  9])"
      ]
     },
     "execution_count": 39,
     "metadata": {},
     "output_type": "execute_result"
    }
   ],
   "source": [
    "ar.sum(axis=0)"
   ]
  },
  {
   "cell_type": "markdown",
   "id": "b794203c-18b1-4637-a431-1c460fb1ba7b",
   "metadata": {},
   "source": [
    "**axis0 means column and axis 1 means rows**"
   ]
  },
  {
   "cell_type": "code",
   "execution_count": 40,
   "id": "ec0a6665-811c-479a-9bb9-a7e62c0bd4bc",
   "metadata": {},
   "outputs": [
    {
     "data": {
      "text/plain": [
       "array([ 6, 15,  8])"
      ]
     },
     "execution_count": 40,
     "metadata": {},
     "output_type": "execute_result"
    }
   ],
   "source": [
    "ar.sum(axis=1)"
   ]
  },
  {
   "cell_type": "markdown",
   "id": "40b4b349-7c21-46b3-8051-ad96c92fcd71",
   "metadata": {},
   "source": [
    "**to transpose an array i.e convert columns into rows**"
   ]
  },
  {
   "cell_type": "code",
   "execution_count": 43,
   "id": "957c6118-883e-468b-a5ab-871fc4ff024f",
   "metadata": {},
   "outputs": [
    {
     "data": {
      "text/plain": [
       "array([[1, 4, 7],\n",
       "       [2, 5, 1],\n",
       "       [3, 6, 0]])"
      ]
     },
     "execution_count": 43,
     "metadata": {},
     "output_type": "execute_result"
    }
   ],
   "source": [
    "ar.T"
   ]
  },
  {
   "cell_type": "markdown",
   "id": "ad7959e1-4180-4392-a9bc-3178c5768a65",
   "metadata": {},
   "source": [
    "**flat gives an iterator**"
   ]
  },
  {
   "cell_type": "code",
   "execution_count": 44,
   "id": "95cd64c1-89b1-4633-aff2-506cff0dae76",
   "metadata": {},
   "outputs": [
    {
     "data": {
      "text/plain": [
       "<numpy.flatiter at 0x1a21ec00be0>"
      ]
     },
     "execution_count": 44,
     "metadata": {},
     "output_type": "execute_result"
    }
   ],
   "source": [
    "ar.flat"
   ]
  },
  {
   "cell_type": "code",
   "execution_count": 45,
   "id": "39e5fec2-eb28-4747-bc3d-1ee5fed2e38f",
   "metadata": {},
   "outputs": [
    {
     "name": "stdout",
     "output_type": "stream",
     "text": [
      "1\n",
      "2\n",
      "3\n",
      "4\n",
      "5\n",
      "6\n",
      "7\n",
      "1\n",
      "0\n"
     ]
    }
   ],
   "source": [
    "for item in ar.flat:\n",
    "    print(item)"
   ]
  },
  {
   "cell_type": "markdown",
   "id": "8f719617-558e-46f8-892a-8637999e392b",
   "metadata": {},
   "source": [
    "**.ndim gives  number of dimensions of in array**"
   ]
  },
  {
   "cell_type": "code",
   "execution_count": 46,
   "id": "747fd697-ed85-4904-8157-86a9e0281cea",
   "metadata": {},
   "outputs": [
    {
     "data": {
      "text/plain": [
       "2"
      ]
     },
     "execution_count": 46,
     "metadata": {},
     "output_type": "execute_result"
    }
   ],
   "source": [
    "ar.ndim"
   ]
  },
  {
   "cell_type": "code",
   "execution_count": 47,
   "id": "5d8ae1e6-7d1a-46d6-b63f-7e93986c6600",
   "metadata": {},
   "outputs": [
    {
     "data": {
      "text/plain": [
       "9"
      ]
     },
     "execution_count": 47,
     "metadata": {},
     "output_type": "execute_result"
    }
   ],
   "source": [
    "ar.size"
   ]
  },
  {
   "cell_type": "code",
   "execution_count": 48,
   "id": "b825f862-4e95-45e6-90d0-1877bc0b4322",
   "metadata": {},
   "outputs": [
    {
     "data": {
      "text/plain": [
       "72"
      ]
     },
     "execution_count": 48,
     "metadata": {},
     "output_type": "execute_result"
    }
   ],
   "source": [
    "ar.nbytes"
   ]
  },
  {
   "cell_type": "code",
   "execution_count": null,
   "id": "6ec6b9a9-6ecb-43bd-ac4d-7c88222db133",
   "metadata": {},
   "outputs": [],
   "source": []
  }
 ],
 "metadata": {
  "kernelspec": {
   "display_name": "Python 3 (ipykernel)",
   "language": "python",
   "name": "python3"
  },
  "language_info": {
   "codemirror_mode": {
    "name": "ipython",
    "version": 3
   },
   "file_extension": ".py",
   "mimetype": "text/x-python",
   "name": "python",
   "nbconvert_exporter": "python",
   "pygments_lexer": "ipython3",
   "version": "3.12.8"
  }
 },
 "nbformat": 4,
 "nbformat_minor": 5
}
