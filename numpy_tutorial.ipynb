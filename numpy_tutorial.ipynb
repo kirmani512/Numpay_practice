{
 "cells": [
  {
   "cell_type": "markdown",
   "id": "4af96739-6501-45e8-ab3c-3fb6b19a3ec7",
   "metadata": {},
   "source": [
    "#Numpay Tutorial"
   ]
  },
  {
   "cell_type": "code",
   "execution_count": 1,
   "id": "c92e8872-d998-4d3e-94e1-2fac47058a52",
   "metadata": {},
   "outputs": [],
   "source": [
    "import sklearn"
   ]
  },
  {
   "cell_type": "code",
   "execution_count": 2,
   "id": "f9fccb94-9fc8-4a52-95ee-e55db55b0416",
   "metadata": {},
   "outputs": [],
   "source": [
    "import numpy as np"
   ]
  },
  {
   "cell_type": "markdown",
   "id": "0e61ddae-58ea-4cf3-a9e4-8aae2682f302",
   "metadata": {},
   "source": [
    "**bold**"
   ]
  },
  {
   "cell_type": "markdown",
   "id": "45f3eefc-2e00-4e8c-a0aa-9e509b5b9f92",
   "metadata": {},
   "source": [
    "*italic*"
   ]
  },
  {
   "cell_type": "code",
   "execution_count": 3,
   "id": "95a5b3ca-27ba-4062-a742-ce1e0f2c16e8",
   "metadata": {},
   "outputs": [
    {
     "name": "stdout",
     "output_type": "stream",
     "text": [
      "hello\n"
     ]
    }
   ],
   "source": [
    "print(\"hello\")"
   ]
  },
  {
   "cell_type": "code",
   "execution_count": 4,
   "id": "ff1a54b7-913c-4272-9061-51d3159405d1",
   "metadata": {},
   "outputs": [],
   "source": [
    "i=45"
   ]
  },
  {
   "cell_type": "code",
   "execution_count": 5,
   "id": "0faf7398-de44-4f4b-8566-7942eae23f40",
   "metadata": {},
   "outputs": [
    {
     "name": "stdout",
     "output_type": "stream",
     "text": [
      "7\n"
     ]
    }
   ],
   "source": [
    "print(7)"
   ]
  },
  {
   "cell_type": "code",
   "execution_count": 6,
   "id": "3f3a9f37-e24f-48e9-be20-2ced80186e16",
   "metadata": {},
   "outputs": [
    {
     "data": {
      "text/plain": [
       "45"
      ]
     },
     "execution_count": 6,
     "metadata": {},
     "output_type": "execute_result"
    }
   ],
   "source": [
    "i"
   ]
  },
  {
   "cell_type": "code",
   "execution_count": 7,
   "id": "7ee81207-a8ca-42a3-8af3-688795ea546b",
   "metadata": {},
   "outputs": [
    {
     "data": {
      "text/plain": [
       "45"
      ]
     },
     "execution_count": 7,
     "metadata": {},
     "output_type": "execute_result"
    }
   ],
   "source": [
    "i"
   ]
  },
  {
   "cell_type": "code",
   "execution_count": null,
   "id": "7f4ded89-c233-4960-a6ae-8f6693abcf79",
   "metadata": {},
   "outputs": [],
   "source": []
  }
 ],
 "metadata": {
  "kernelspec": {
   "display_name": "Python 3 (ipykernel)",
   "language": "python",
   "name": "python3"
  },
  "language_info": {
   "codemirror_mode": {
    "name": "ipython",
    "version": 3
   },
   "file_extension": ".py",
   "mimetype": "text/x-python",
   "name": "python",
   "nbconvert_exporter": "python",
   "pygments_lexer": "ipython3",
   "version": "3.12.8"
  }
 },
 "nbformat": 4,
 "nbformat_minor": 5
}
